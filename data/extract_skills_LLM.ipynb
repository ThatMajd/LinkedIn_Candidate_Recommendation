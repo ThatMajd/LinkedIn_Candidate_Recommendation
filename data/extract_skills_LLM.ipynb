{
 "cells": [
  {
   "cell_type": "markdown",
   "metadata": {
    "application/vnd.databricks.v1+cell": {
     "cellMetadata": {},
     "inputWidgets": {},
     "nuid": "3380c0c9-503e-46fc-96eb-f839a4d789d5",
     "showTitle": false,
     "title": ""
    },
    "collapsed": true,
    "pycharm": {
     "is_executing": true
    }
   },
   "source": [
    "# Initilizations"
   ]
  },
  {
   "cell_type": "code",
   "execution_count": 0,
   "metadata": {
    "application/vnd.databricks.v1+cell": {
     "cellMetadata": {
      "byteLimit": 2048000,
      "rowLimit": 10000
     },
     "collapsed": true,
     "inputWidgets": {},
     "nuid": "3555e9ba-e88a-48b4-a3af-98b58abcbc31",
     "showTitle": false,
     "title": ""
    }
   },
   "outputs": [
    {
     "output_type": "display_data",
     "data": {
      "text/html": [
       "<style scoped>\n",
       "  .ansiout {\n",
       "    display: block;\n",
       "    unicode-bidi: embed;\n",
       "    white-space: pre-wrap;\n",
       "    word-wrap: break-word;\n",
       "    word-break: break-all;\n",
       "    font-family: \"Menlo\", \"Monaco\", \"Consolas\", \"Ubuntu Mono\", \"Source Code Pro\", monospace;\n",
       "    font-size: 13px;\n",
       "    color: #555;\n",
       "    margin-left: 4px;\n",
       "    line-height: 19px;\n",
       "  }\n",
       "</style>"
      ]
     },
     "metadata": {
      "application/vnd.databricks.v1+output": {
       "arguments": {},
       "data": "",
       "errorSummary": "Cancelled",
       "errorTraceType": "html",
       "metadata": {},
       "type": "ipynbError"
      }
     }
    }
   ],
   "source": [
    "from pyspark.sql import SparkSession\n",
    "from pyspark.sql.types import *\n",
    "import pyspark.sql.functions as F\n",
    "import pandas as pd\n",
    "spark = SparkSession.builder.appName(\"MyApp\").getOrCreate()"
   ]
  },
  {
   "cell_type": "code",
   "execution_count": 0,
   "metadata": {
    "application/vnd.databricks.v1+cell": {
     "cellMetadata": {
      "byteLimit": 2048000,
      "rowLimit": 10000
     },
     "collapsed": true,
     "inputWidgets": {},
     "nuid": "4d950da3-6422-4817-b99c-c8a7aaac93c8",
     "showTitle": false,
     "title": ""
    },
    "collapsed": false
   },
   "outputs": [],
   "source": [
    "JOBS_PATH = \"../../dbfs/FileStore/shared_uploads/majedbishara@campus.technion.ac.il/job_postings_clean.csv\"\n",
    "RQRS_PATH = \"../../dbfs/FileStore/shared_uploads/majedbishara@campus.technion.ac.il/compressed_requirements.csv\"\n",
    "\n",
    "meta_industries_12 = {\n",
    "    'Furniture and Home Furnishings Manufacturing': 'Manufacturing',\n",
    "    'Investment Banking': 'Financial and Investment',\n",
    "    'Architecture and Planning': 'Services',\n",
    "    'Wholesale': 'Services',\n",
    "    'Travel Arrangements': 'Services',\n",
    "    'Ranching': 'Miscellaneous',\n",
    "    'Hospitals and Health Care': 'Healthcare and Medical',\n",
    "    'Book and Periodical Publishing': 'Services',\n",
    "    'Printing Services': 'Services',\n",
    "    'Professional Training and Coaching': 'Services',\n",
    "    'Computers and Electronics Manufacturing': 'Manufacturing',\n",
    "    'Shipbuilding': 'Manufacturing',\n",
    "    'Public Policy Offices': 'Government and Public Policy',\n",
    "    'Software Development': 'Technology',\n",
    "    'Outsourcing and Offshoring Consulting': 'Services',\n",
    "    'Retail Groceries': 'Retail and Consumer Goods',\n",
    "    'Education Administration Programs': 'Education and Training',\n",
    "    'Plastics Manufacturing': 'Manufacturing',\n",
    "    'Renewable Energy Semiconductor Manufacturing': 'Manufacturing',\n",
    "    'Computer Networking Products': 'Technology',\n",
    "    'Events Services': 'Services',\n",
    "    'Information Services': 'Services',\n",
    "    'Food and Beverage Services': 'Services',\n",
    "    'Semiconductor Manufacturing': 'Manufacturing',\n",
    "    'Business Consulting and Services': 'Services',\n",
    "    'Insurance': 'Services',\n",
    "    'Financial Services': 'Services',\n",
    "    'Wireless Services': 'Services',\n",
    "    'Computer Hardware Manufacturing': 'Technology',\n",
    "    'Public Safety': 'Services',\n",
    "    'Maritime Transportation': 'Transportation and Logistics',\n",
    "    'Tobacco Manufacturing': 'Manufacturing',\n",
    "    'Writing and Editing': 'Services',\n",
    "    'Veterinary Services': 'Services',\n",
    "    'Staffing and Recruiting': 'Services',\n",
    "    'Accounting': 'Services',\n",
    "    'International Affairs': 'Government and Public Policy',\n",
    "    'Spectator Sports': 'Miscellaneous',\n",
    "    'Glass, Ceramics and Concrete Manufacturing': 'Manufacturing',\n",
    "    'Chemical Manufacturing': 'Manufacturing',\n",
    "    'Mining': 'Miscellaneous',\n",
    "    'E-Learning Providers': 'Technology',\n",
    "    'Security and Investigations': 'Services',\n",
    "    'Translation and Localization': 'Services',\n",
    "    'Automation Machinery Manufacturing': 'Technology',\n",
    "    'Computer and Network Security': 'Technology',\n",
    "    'Political Organizations': 'Government and Public Policy',\n",
    "    'Environmental Services': 'Government and Public Policy',\n",
    "    'Oil and Gas': 'Miscellaneous',\n",
    "    'Real Estate': 'Real Estate and Construction',\n",
    "    'Think Tanks': 'Government and Public Policy',\n",
    "    'Executive Offices': 'Miscellaneous',\n",
    "    'Law Practice': 'Services',\n",
    "    'Nanotechnology Research': 'Miscellaneous',\n",
    "    'International Trade and Development': 'Government and Public Policy',\n",
    "    'Personal Care Product Manufacturing': 'Manufacturing',\n",
    "    'Philanthropic Fundraising Services': 'Services',\n",
    "    'Entertainment Providers': 'Media and Entertainment',\n",
    "    'Market Research': 'Media and Entertainment',\n",
    "    'Movies, Videos, and Sound': 'Media and Entertainment',\n",
    "    'Sporting Goods Manufacturing': 'Manufacturing',\n",
    "    'Graphic Design': 'Services',\n",
    "    'Technology, Information and Internet': 'Technology',\n",
    "    'IT Services and IT Consulting': 'Technology',\n",
    "    'Retail Office Equipment': 'Retail and Consumer Goods',\n",
    "    'Wholesale Import and Export': 'Services',\n",
    "    'Capital Markets': 'Financial and Investment',\n",
    "    'Law Enforcement': 'Services',\n",
    "    'Freight and Package Transportation': 'Transportation and Logistics',\n",
    "    'Industrial Machinery Manufacturing': 'Manufacturing',\n",
    "    'Non-profit Organizations': 'Miscellaneous',\n",
    "    'Retail Art Supplies': 'Retail and Consumer Goods',\n",
    "    'Animation and Post-production': 'Media and Entertainment',\n",
    "    'Transportation, Logistics, Supply Chain and Storage': 'Transportation and Logistics',\n",
    "    'Aviation and Aerospace Component Manufacturing': 'Transportation and Logistics',\n",
    "    'Fundraising': 'Financial and Investment',\n",
    "    'Railroad Equipment Manufacturing': 'Transportation and Logistics',\n",
    "    'Construction': 'Real Estate and Construction',\n",
    "    'Investment Management': 'Financial and Investment',\n",
    "    'Utilities': 'Miscellaneous',\n",
    "    'Retail Luxury Goods and Jewelry': 'Retail and Consumer Goods',\n",
    "    'Warehousing and Storage': 'Transportation and Logistics',\n",
    "    'Media Production': 'Media and Entertainment',\n",
    "    'Gambling Facilities and Casinos': 'Media and Entertainment',\n",
    "    'Defense and Space Manufacturing': 'Manufacturing',\n",
    "    'Facilities Services': 'Services',\n",
    "    'Government Relations Services': 'Government and Public Policy',\n",
    "    'Advertising Services': 'Media and Entertainment',\n",
    "    'Paper and Forest Product Manufacturing': 'Manufacturing',\n",
    "    'Packaging and Containers Manufacturing': 'Manufacturing',\n",
    "    'Telecommunications': 'Technology',\n",
    "    'Medical Equipment Manufacturing': 'Healthcare and Medical',\n",
    "    'Beverage Manufacturing': 'Manufacturing',\n",
    "    'Restaurants': 'Retail and Consumer Goods',\n",
    "    'Leasing Non-residential Real Estate': 'Real Estate and Construction',\n",
    "    'Newspaper Publishing': 'Media and Entertainment',\n",
    "    'Armed Forces': 'Miscellaneous',\n",
    "    'Appliances, Electrical, and Electronics Manufacturing': 'Manufacturing',\n",
    "    'Hospitality': 'Services',\n",
    "    'Pharmaceutical Manufacturing': 'Healthcare and Medical',\n",
    "    'Research Services': 'Services',\n",
    "    'Retail Apparel and Fashion': 'Retail and Consumer Goods',\n",
    "    'Photography': 'Media and Entertainment',\n",
    "    'Wellness and Fitness Services': 'Services',\n",
    "    'Truck Transportation': 'Transportation and Logistics',\n",
    "    'Consumer Services': 'Services',\n",
    "    'Wholesale Building Materials': 'Services',\n",
    "    'Human Resources Services': 'Services',\n",
    "    'Airlines and Aviation': 'Transportation and Logistics',\n",
    "    'Machinery Manufacturing': 'Manufacturing',\n",
    "    'Individual and Family Services': 'Services',\n",
    "    'Motor Vehicle Manufacturing': 'Manufacturing',\n",
    "    'Performing Arts': 'Media and Entertainment',\n",
    "    'Museums, Historical Sites, and Zoos': 'Media and Entertainment',\n",
    "    'Broadcast Media Production and Distribution': 'Media and Entertainment',\n",
    "    'Banking': 'Financial and Investment',\n",
    "    'Recreational Facilities': 'Miscellaneous',\n",
    "    'Government Administration': 'Government and Public Policy',\n",
    "    'Public Relations and Communications Services': 'Media and Entertainment',\n",
    "    'Fisheries': 'Miscellaneous',\n",
    "    'Medical Practices': 'Healthcare and Medical',\n",
    "    'Religious Institutions': 'Miscellaneous',\n",
    "    'Online Audio and Video Media': 'Media and Entertainment',\n",
    "    'Artists and Writers': 'Miscellaneous',\n",
    "    'Biotechnology Research': 'Healthcare and Medical',\n",
    "    'Legal Services': 'Services',\n",
    "    'Retail': 'Retail and Consumer Goods',\n",
    "    'Civil Engineering': 'Services',\n",
    "    'Libraries': 'Miscellaneous',\n",
    "    'Alternative Dispute Resolution': 'Miscellaneous',\n",
    "    'Manufacturing': 'Miscellaneous',\n",
    "    'Design Services': 'Services',\n",
    "    'Dairy Product Manufacturing': 'Manufacturing',\n",
    "    'Higher Education': 'Education and Training',\n",
    "    'Civic and Social Organizations': 'Miscellaneous',\n",
    "    'Textile Manufacturing': 'Manufacturing',\n",
    "    'Venture Capital and Private Equity Principals': 'Financial and Investment',\n",
    "    'Mental Health Care': 'Healthcare and Medical',\n",
    "    'Musicians': 'Media and Entertainment',\n",
    "    'Farming': 'Miscellaneous',\n",
    "    'Computer Games': 'Media and Entertainment',\n",
    "    'Strategic Management Services': 'Services',\n",
    "    'Food and Beverage Manufacturing': 'Manufacturing',\n",
    "    'Primary and Secondary Education': 'Education and Training',\n",
    "    'Alternative Medicine': 'Healthcare and Medical',\n",
    "    'Legislative Offices': 'Services',\n",
    "    'Administration of Justice': 'Services',\n",
    "    'Mobile Gaming Apps': 'Media and Entertainment'\n",
    "}\n",
    "\n",
    "@udf(StringType())\n",
    "def _meta_mapper(industry):\n",
    "    if industry in meta_industries_12:\n",
    "        return meta_industries_12[industry]\n",
    "    else:\n",
    "        return None\n",
    "\n",
    "jobs_postings = spark.createDataFrame(pd.read_csv(JOBS_PATH))\n",
    "companies = spark.read.parquet('/linkedin/companies')\n",
    "people = spark.read.parquet('/linkedin/people')\n",
    "requirements = spark.createDataFrame(pd.read_csv(RQRS_PATH)).drop('Unnamed: 0')"
   ]
  },
  {
   "cell_type": "code",
   "execution_count": 0,
   "metadata": {
    "application/vnd.databricks.v1+cell": {
     "cellMetadata": {
      "byteLimit": 2048000,
      "rowLimit": 10000
     },
     "inputWidgets": {},
     "nuid": "9888453e-cc05-41d3-8def-b219348061fd",
     "showTitle": false,
     "title": ""
    }
   },
   "outputs": [],
   "source": [
    "_bad_cols_comapnies = [\"affiliated\", \"crunchbase_url\"]\n",
    "_bad_cols_jobs = [\"original_listed_time\", \"application_url\", \"application_type\", \"expiry\", \"closed_time\", \"listed_time\", \"posting_domain\", \"scraped\"]\n",
    "\n",
    "\n",
    "jobs_postings = jobs_postings.drop(*_bad_cols_jobs)\n",
    "jobs_postings = jobs_postings.withColumn(\"remote_allowed\", F.when(jobs_postings.remote_allowed.isNull(), False).otherwise(True))\n",
    "\n",
    "companies = companies.filter(companies.industries.isNotNull()).withColumn(\"meta_industry\", _meta_mapper(\"industries\"))\n"
   ]
  },
  {
   "cell_type": "code",
   "execution_count": 0,
   "metadata": {
    "application/vnd.databricks.v1+cell": {
     "cellMetadata": {
      "byteLimit": 2048000,
      "rowLimit": 10000
     },
     "inputWidgets": {},
     "nuid": "ad467b60-be6c-4188-9e60-ced9f239604e",
     "showTitle": false,
     "title": ""
    }
   },
   "outputs": [],
   "source": [
    "rel_companies_names = jobs_postings.join(companies.select(\"company_id\", \"id\", \"meta_industry\"), on=\"company_id\").selectExpr(\"id as company_id\").dropDuplicates()\n",
    "\n",
    "rel_people = people.withColumn(\"company_id\", F.col(\"current_company.company_id\"))\\\n",
    "    .join(rel_companies_names, on=\"company_id\")\n"
   ]
  },
  {
   "cell_type": "code",
   "execution_count": 0,
   "metadata": {
    "application/vnd.databricks.v1+cell": {
     "cellMetadata": {
      "byteLimit": 2048000,
      "rowLimit": 10000
     },
     "inputWidgets": {},
     "nuid": "2cf9c54c-add3-4392-a66e-3ed5198c0171",
     "showTitle": false,
     "title": ""
    }
   },
   "outputs": [],
   "source": [
    "@udf(StringType())\n",
    "def extract_title(courses):\n",
    "    return \"\".join([json[\"title\"]+\", \" for json in courses])\n",
    "\n",
    "summary = rel_people.filter(F.col(\"about\").isNotNull())\\\n",
    "    .withColumn(\"сourses\", extract_title(\"сourses\"))\\\n",
    "    .withColumn(\"certifications\", extract_title(\"certifications\"))\\\n",
    "    .select(\"id\", F.concat(F.col(\"about\"), F.lit(\"\\ncertifications: \"), F.col(\"certifications\"),\\\n",
    "                                        F.lit(\"\\ncourses: \"), F.col(\"сourses\")).alias(\"summary\"))"
   ]
  },
  {
   "cell_type": "code",
   "execution_count": 0,
   "metadata": {
    "application/vnd.databricks.v1+cell": {
     "cellMetadata": {
      "byteLimit": 2048000,
      "rowLimit": 10000
     },
     "inputWidgets": {},
     "nuid": "5004fca2-67bd-453e-a849-b502de9740f5",
     "showTitle": false,
     "title": ""
    }
   },
   "outputs": [
    {
     "output_type": "stream",
     "name": "stdout",
     "text": [
      "\u001B[33mWARNING: You are using pip version 21.2.4; however, version 24.0 is available.\r\nYou should consider upgrading via the '/local_disk0/.ephemeral_nfs/envs/pythonEnv-bca885d5-8cf8-4914-815b-b0b5b70dff75/bin/python -m pip install --upgrade pip' command.\u001B[0m\r\n"
     ]
    }
   ],
   "source": [
    "!pip install -q -U google-generativeai"
   ]
  },
  {
   "cell_type": "code",
   "execution_count": 0,
   "metadata": {
    "application/vnd.databricks.v1+cell": {
     "cellMetadata": {
      "byteLimit": 2048000,
      "rowLimit": 10000
     },
     "inputWidgets": {},
     "nuid": "85dbe5ea-3568-4713-96bd-91b5a61bc495",
     "showTitle": false,
     "title": ""
    }
   },
   "outputs": [],
   "source": [
    "df_summary = summary.toPandas()"
   ]
  },
  {
   "cell_type": "code",
   "execution_count": 0,
   "metadata": {
    "application/vnd.databricks.v1+cell": {
     "cellMetadata": {
      "byteLimit": 2048000,
      "rowLimit": 10000
     },
     "inputWidgets": {},
     "nuid": "eac1d328-0b98-469b-a315-33c85a05e0a6",
     "showTitle": false,
     "title": ""
    }
   },
   "outputs": [],
   "source": [
    "import pandas as pd\n",
    "import google.generativeai as genai\n",
    "\n",
    "class Gemini:\n",
    "    def __init__(self):\n",
    "        API_KEY = \"\"\n",
    "        genai.configure(api_key=API_KEY)\n",
    "        self.model = genai.GenerativeModel('gemini-pro')\n",
    "        self.context = \"\"\n",
    "\n",
    "    def set_context(self, context):\n",
    "        print(\"Set context for model!\")\n",
    "        self.context = context\n",
    "\n",
    "    def check_correctness(self, raw_output):\n",
    "        bad_words = [\"missing\", \"N/A\", \"not provided\", \"**\", \"Not specified\", \":\"]\n",
    "        lines = raw_output.split(\"\\n\")\n",
    "        for l in lines:\n",
    "            if l[:2] != \"- \":\n",
    "                return False\n",
    "            if any([bd_wrd in l for bd_wrd in bad_words]):\n",
    "                return False\n",
    "        return True\n",
    "\n",
    "    def generate(self, text):\n",
    "        legal_output = False\n",
    "        while not legal_output:\n",
    "            raw_result = self.model.generate_content(self.context + text)\n",
    "            try:\n",
    "                text = raw_result._result.candidates[0].content.parts[0].text\n",
    "            except Exception:\n",
    "                text = \"- Error\"\n",
    "            legal_output = self.check_correctness(text)\n",
    "        return text\n",
    "model = Gemini()"
   ]
  },
  {
   "cell_type": "code",
   "execution_count": 0,
   "metadata": {
    "application/vnd.databricks.v1+cell": {
     "cellMetadata": {
      "byteLimit": 2048000,
      "rowLimit": 10000
     },
     "inputWidgets": {},
     "nuid": "58e852bb-b7a0-49e1-a862-98666f52d3eb",
     "showTitle": false,
     "title": ""
    }
   },
   "outputs": [],
   "source": [
    "def generate_requirements(requir):\n",
    "    response = model.generate(requir)\n",
    "    return [r[2:]for r in response.split(\"\\n\")]\n",
    "context = \"\"\"\n",
    "Abstract and compress the provided text into a concise Python list, include years of experience, previous experience and positions and software (list them individually) and other stuff, DO NOT split the information by subject OR BY ANYTHING, DO NOT LIST INFO THAT IS MISSING, return them as bullets.\n",
    "\"\"\"\n",
    "model.set_context(context)\n",
    "\n",
    "n, step = len(df_summary), 100\n",
    "jumps = list(range(0, n, step)) + [n]\n",
    "for i, jump in enumerate(jumps):\n",
    "    if i == 0 or i < 35: continue\n",
    "    print(f'batch [{i}/{len(jumps)}] range {jumps[i-1]}-{jump}')\n",
    "    tmp_df = df_summary.iloc[jumps[i-1]:jump]\n",
    "    tmp_df.loc[:, \"clean_skills\"] = tmp_df[\"summary\"].apply(lambda x: generate_requirements(x))\n",
    "    tmp_df.to_csv(\"employee_skills_35.csv\", index=False, mode=\"a\", header=(i == 35))"
   ]
  }
 ],
 "metadata": {
  "application/vnd.databricks.v1+notebook": {
   "dashboards": [],
   "language": "python",
   "notebookMetadata": {
    "pythonIndentUnit": 4
   },
   "notebookName": "project_template",
   "widgets": {}
  },
  "kernelspec": {
   "display_name": "Python 3",
   "language": "python",
   "name": "python3"
  },
  "language_info": {
   "codemirror_mode": {
    "name": "ipython",
    "version": 2
   },
   "file_extension": ".py",
   "mimetype": "text/x-python",
   "name": "python",
   "nbconvert_exporter": "python",
   "pygments_lexer": "ipython2",
   "version": "2.7.6"
  }
 },
 "nbformat": 4,
 "nbformat_minor": 0
}
