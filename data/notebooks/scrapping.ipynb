{
 "cells": [
  {
   "cell_type": "code",
   "execution_count": 311,
   "metadata": {
    "collapsed": true,
    "ExecuteTime": {
     "start_time": "2024-03-31T18:29:17.371344Z",
     "end_time": "2024-03-31T18:29:24.888093Z"
    }
   },
   "outputs": [
    {
     "name": "stdout",
     "output_type": "stream",
     "text": [
      "Connecting to Scraping Browser...\n"
     ]
    }
   ],
   "source": [
    "import pandas as pd\n",
    "import selenium.common.exceptions\n",
    "from selenium import webdriver\n",
    "from selenium.webdriver.common.by import By\n",
    "from selenium.webdriver import Remote, ChromeOptions\n",
    "from selenium.webdriver.chromium.remote_connection import ChromiumRemoteConnection\n",
    "\n",
    "JOBS_URL = \"https://www.linkedin.com/jobs/search\"\n",
    "\n",
    "USE_PROXY = False\n",
    "\n",
    "SCRAP_FILE = \"./scrapped_data/job_listings1.csv\"\n",
    "\n",
    "if USE_PROXY:\n",
    "\n",
    "    AUTH = f'{USER}:{PASS}'\n",
    "    SBR_WEBDRIVER = f'https://{AUTH}@brd.superproxy.io:9515'\n",
    "\n",
    "\n",
    "    print('Connecting to Scraping Browser...')\n",
    "    sbr_connection = ChromiumRemoteConnection(SBR_WEBDRIVER, 'goog', 'chrome')\n",
    "    driver =  Remote(command_executor=sbr_connection, options=ChromeOptions())\n",
    "else:\n",
    "    driver = webdriver.Chrome()\n",
    "\n",
    "driver.get(JOBS_URL)\n"
   ]
  },
  {
   "cell_type": "code",
   "execution_count": 242,
   "outputs": [
    {
     "data": {
      "text/plain": "True"
     },
     "execution_count": 242,
     "metadata": {},
     "output_type": "execute_result"
    }
   ],
   "source": [
    "driver.get_screenshot_as_file(\"destination.png\")"
   ],
   "metadata": {
    "collapsed": false,
    "ExecuteTime": {
     "start_time": "2024-03-31T12:24:47.269667Z",
     "end_time": "2024-03-31T12:24:50.308155Z"
    }
   }
  },
  {
   "cell_type": "markdown",
   "source": [],
   "metadata": {
    "collapsed": false
   }
  },
  {
   "cell_type": "code",
   "execution_count": 312,
   "outputs": [],
   "source": [
    "# from container import parse_job_listing\n",
    "import time\n",
    "import re\n",
    "import pprint\n",
    "# from constants import BUTTONS\n",
    "\n",
    "BUTTONS = {\n",
    "    \"SHOW_MORE\": [By.CLASS_NAME, \"\"\"\"\"show-more-less-html__button show-more-less-button\n",
    "        show-more-less-html__button--more\n",
    "        ml-0.5\"\"\"],\n",
    "    \"JOB_PAGE\": [By.CSS_SELECTOR, \"body > div.base-serp-page > div > section\"],\n",
    "    \"DESCRIPTION\": [By.CSS_SELECTOR, \"body > div.base-serp-page > div > section > div.details-pane__content.details-pane__content--show > div > section.core-section-container.my-3.description > div > div > section > div\"],\n",
    "    \"COMPANY_ID\": [By.CSS_SELECTOR, \"body > div.base-serp-page > div > section > div.details-pane__content.details-pane__content--show > section > div > div.top-card-layout__entity-info-container.flex.flex-wrap.papabear\\:flex-nowrap > div > h4 > div.face-pile.flex.see-who-was-hired > a\"],\n",
    "    \"TOP_BAR\": [By.CSS_SELECTOR, \"body > div.base-serp-page > div > section > div.details-pane__content.details-pane__content--show > section > div\"],\n",
    "    \"BOTTOM_BAR\": [By.CSS_SELECTOR, \"body > div.base-serp-page > div > section > div.details-pane__content.details-pane__content--show > div > section.core-section-container.my-3.description > div > ul\"],\n",
    "    \"LOAD_MORE\": [By.CSS_SELECTOR, \"#main-content > section > button\"]\n",
    "}\n",
    "\n",
    "COLS = ['company_id', 'description', 'formatted_experience_level', 'formatted_work_type', 'industries', 'job_function', 'job_id', 'location', 'title', 'work_type']"
   ],
   "metadata": {
    "collapsed": false,
    "ExecuteTime": {
     "start_time": "2024-03-31T18:29:24.895209Z",
     "end_time": "2024-03-31T18:29:24.898741Z"
    }
   }
  },
  {
   "cell_type": "code",
   "execution_count": 313,
   "outputs": [],
   "source": [
    "\n",
    "def fetch_jobs(limit):\n",
    "    def fetch_jobs_list():\n",
    "        return driver.find_element(By.CSS_SELECTOR, '#main-content > section > ul').find_elements(By.TAG_NAME, \"li\")\n",
    "    my_list = fetch_jobs_list()\n",
    "    n = len(my_list)\n",
    "    # print(f\"Starting length: {len(my_list)}\")\n",
    "    i = 0\n",
    "    STOP = False\n",
    "    while not STOP:\n",
    "        for j, item in enumerate(my_list):\n",
    "            if i > limit:\n",
    "                print(\"Finished Scraping\")\n",
    "                STOP = True\n",
    "                break\n",
    "            i += 1\n",
    "            yield item\n",
    "            time.sleep(1.5)\n",
    "            # yield item\n",
    "        else:\n",
    "            time.sleep(0.5)\n",
    "            driver.execute_script(\"window.scrollTo(0, document.body.scrollHeight);\")\n",
    "            try:\n",
    "                driver.find_element(*BUTTONS[\"LOAD_MORE\"]).click()\n",
    "            except Exception:\n",
    "                pass\n",
    "            time.sleep(1)\n",
    "            n = len(my_list)\n",
    "            updated = fetch_jobs_list()\n",
    "            while n == len(updated):\n",
    "                time.sleep(0.5)\n",
    "                updated = fetch_jobs_list()\n",
    "            # print(f'my_list len {n} updated len {len(updated)}')\n",
    "            my_list = updated[n:]\n",
    "            # print(f\"new len {len(my_list)}\")\n"
   ],
   "metadata": {
    "collapsed": false,
    "ExecuteTime": {
     "start_time": "2024-03-31T18:29:24.908758Z",
     "end_time": "2024-03-31T18:29:24.915628Z"
    }
   }
  },
  {
   "cell_type": "code",
   "execution_count": null,
   "outputs": [],
   "source": [
    "jobs_scrapped = 0\n",
    "pattern_companyId = r\"facetCurrentCompany%3D(\\d+)\"\n",
    "pattern_jobId = r\"currentJobId=(\\d+)\"\n",
    "\n",
    "new_data = pd.DataFrame(columns=COLS)\n",
    "data = pd.read_csv(SCRAP_FILE)\n",
    "\n",
    "def scrap_job_element(job_element):\n",
    "    job_element.click()\n",
    "    job_data = {}\n",
    "    time.sleep(1)\n",
    "    ERROR_FLAG = False\n",
    "\n",
    "    _job_id = job_data[\"job_id\"] = int(re.search(pattern_jobId, driver.current_url).group(1))\n",
    "\n",
    "    # print(type(_job_id))\n",
    "    # print(_job_id in data[\"job_id\"].values)\n",
    "    if _job_id in new_data[\"job_id\"].values or _job_id in data[\"job_id\"].values:\n",
    "        print(\"(already scrapped)\", end=\"\")\n",
    "        return job_data, True\n",
    "\n",
    "    job_data[\"description\"] = driver.find_element(*BUTTONS[\"DESCRIPTION\"]).text.strip()\n",
    "    job_data[\"company_id\"] = re.search(pattern_companyId, driver.find_element(*BUTTONS[\"COMPANY_ID\"]).get_attribute(\"href\")).group(1)\n",
    "\n",
    "    top_bar = driver.find_element(*BUTTONS[\"TOP_BAR\"]).text.split(\"\\n\")\n",
    "    job_data[\"title\"] = top_bar[0]\n",
    "    job_data[\"location\"] = \" \".join(top_bar[1].split(\" \")[1:])\n",
    "    bottom_bar = driver.find_element(*BUTTONS[\"BOTTOM_BAR\"]).text.split(\"\\n\")\n",
    "    for i in range(0, len(bottom_bar), 2):\n",
    "        if bottom_bar[i] == \"Seniority level\":\n",
    "            job_data[\"formatted_experience_level\"] = \"\" if bottom_bar[i+1] == \"Not Applicable\" else bottom_bar[i+1]\n",
    "        elif bottom_bar[i] == \"Employment type\":\n",
    "            job_data[\"work_type\"] = bottom_bar[i+1].upper()\n",
    "            job_data[\"formatted_work_type\"] = bottom_bar[i+1]\n",
    "        elif bottom_bar[i] == \"Industries\":\n",
    "            job_data[\"industries\"] = bottom_bar[i+1]\n",
    "        elif bottom_bar[i] == \"Job function\":\n",
    "            job_data[\"job_function\"] = bottom_bar[i+1]\n",
    "        else:\n",
    "            print(\"Something went wrong, won't scrape this!\")\n",
    "            ERROR_FLAG = True\n",
    "            break\n",
    "    return job_data, ERROR_FLAG\n",
    "\n",
    "\n",
    "for i, job_element in enumerate(fetch_jobs(100)):\n",
    "    SUCCESS = False\n",
    "    LOAD_TRIES = 0\n",
    "    while not SUCCESS:\n",
    "        try:\n",
    "            s = time.time()\n",
    "            job_element.click()\n",
    "            job_data, error = scrap_job_element(job_element)\n",
    "            job_id = job_data[\"job_id\"]\n",
    "            print(f'[{jobs_scrapped}/{i}] - Scraped job - {job_id} took: {time.time() - s:.2f} sec ', end=\"\")\n",
    "            if error:\n",
    "                print(\"ABORT\")\n",
    "                SUCCESS = True\n",
    "                break\n",
    "            print()\n",
    "            new_data = new_data._append(pd.Series(job_data), ignore_index=True)\n",
    "            SUCCESS = True\n",
    "            jobs_scrapped += 1\n",
    "            time.sleep(1)\n",
    "            new_data.to_csv(\"scrapped_data/job_listings2.csv\", index=False, header=True)\n",
    "            if jobs_scrapped % 10 == 0:\n",
    "                print(f'\\t--- SCRAPPED {jobs_scrapped} JOBS ---')\n",
    "                time.sleep(2)\n",
    "\n",
    "        except selenium.common.exceptions.NoSuchElementException:\n",
    "            LOAD_TRIES += 1\n",
    "            time.sleep(0.1)\n",
    "            element_before.click()\n",
    "            if LOAD_TRIES == 5:\n",
    "                time.sleep(15)\n",
    "            elif LOAD_TRIES == 8:\n",
    "                SUCCESS = True\n",
    "                break\n",
    "            time.sleep(1)\n",
    "\n",
    "        except selenium.common.exceptions.WebDriverException:\n",
    "            print(\"WebDriver Exception waiting and trying again...\")\n",
    "            time.sleep(2)\n",
    "    element_before = job_element\n",
    "print(\"DONE SCRAPPING\")\n",
    "new_data"
   ],
   "metadata": {
    "collapsed": false,
    "ExecuteTime": {
     "start_time": "2024-03-31T12:44:25.634650Z",
     "end_time": "2024-03-31T13:06:41.625146Z"
    },
    "pycharm": {
     "is_executing": true
    }
   }
  },
  {
   "cell_type": "code",
   "execution_count": 317,
   "outputs": [],
   "source": [
    "df1 = pd.read_csv(\"scrapped_data/job_listings1.csv\")\n",
    "df2 = pd.read_csv(\"scrapped_data/job_listings2.csv\")"
   ],
   "metadata": {
    "collapsed": false,
    "ExecuteTime": {
     "start_time": "2024-03-31T19:48:24.161873Z",
     "end_time": "2024-03-31T19:48:24.183477Z"
    }
   }
  },
  {
   "cell_type": "code",
   "execution_count": 316,
   "outputs": [],
   "source": [
    "pd.concat([df1, df2]).to_csv(\"scrapped_data/job_listings1.csv\", index=False)"
   ],
   "metadata": {
    "collapsed": false,
    "ExecuteTime": {
     "start_time": "2024-03-31T19:48:22.452250Z",
     "end_time": "2024-03-31T19:48:22.461311Z"
    }
   }
  },
  {
   "cell_type": "code",
   "execution_count": 318,
   "outputs": [
    {
     "data": {
      "text/plain": "     company_id                                        description  \\\n0       1584738  Company Description\\n\\nSmartRecruiters is a va...   \n1     101701751  Job Title: Remote Travel Data Entry Specialist...   \n2         22615  The Neonatal ICU at Huntsville Hospital for Wo...   \n3     101701751  Job Title: Administrative Assistant/Customer S...   \n4          3055  Company Description\\n\\nDiscover the essence of...   \n..          ...                                                ...   \n228    99218917  This is a remote position.\\n\\nJunior Virtual A...   \n229        2998  Help Help Requirements Conditions of Employmen...   \n230    18348748  Description\\n\\nWho We Are - MANSCAPED® is a le...   \n231    99218917  This is a remote position.\\n\\nJunior React Dev...   \n232      140772  Children’s import apparel company seeking prod...   \n\n    formatted_experience_level formatted_work_type  \\\n0                    Associate           Full-time   \n1                  Entry level           Full-time   \n2             Mid-Senior level               Other   \n3                  Entry level           Full-time   \n4                    Associate           Full-time   \n..                         ...                 ...   \n228                Entry level           Full-time   \n229                Entry level           Full-time   \n230           Mid-Senior level           Full-time   \n231                Entry level           Full-time   \n232                  Associate           Full-time   \n\n                                            industries  \\\n0    Technology, Information and Internet and Softw...   \n1                                  Internet Publishing   \n2                            Hospitals and Health Care   \n3                                  Internet Publishing   \n4                                          Hospitality   \n..                                                 ...   \n228                      IT Services and IT Consulting   \n229                          Government Administration   \n230                Personal Care Product Manufacturing   \n231                      IT Services and IT Consulting   \n232                         Retail Apparel and Fashion   \n\n                        job_function      job_id  \\\n0                  Strategy/Planning  3878432283   \n1                     Administrative  3878442071   \n2               Health Care Provider  3878285098   \n3                     Administrative  3878438366   \n4                              Other  3878432792   \n..                               ...         ...   \n228           Information Technology  3878774793   \n229                            Other  3879000341   \n230  Accounting/Auditing and Finance  3878784776   \n231           Information Technology  3878779047   \n232                       Production  3878788181   \n\n                                       location  \\\n0                                 United States   \n1                  Venture Planners Chicago, IL   \n2                       Hospital Huntsville, AL   \n3                Venture Planners United States   \n4                                    Wailea, HI   \n..                                          ...   \n228                Learning Career New York, NY   \n229  Department of Homeland Security Tustin, CA   \n230                               United States   \n231                Learning Career New York, NY   \n232             New York City Metropolitan Area   \n\n                                         title  work_type  \n0                               Events Manager  FULL-TIME  \n1                    Data Entry Clerk - Remote  FULL-TIME  \n2           RN Staff-Neonatal ICU-PT-3rd Shift      OTHER  \n3    Administrative Assistant/Customer Service  FULL-TIME  \n4                  Revenue Analyst (Full-time)  FULL-TIME  \n..                                         ...        ...  \n228                   Junior Virtual Assistant  FULL-TIME  \n229                             Asylum Officer  FULL-TIME  \n230                  Manager, Accounts Payable  FULL-TIME  \n231                     Junior React Developer  FULL-TIME  \n232                     Production Coordinator  FULL-TIME  \n\n[233 rows x 10 columns]",
      "text/html": "<div>\n<style scoped>\n    .dataframe tbody tr th:only-of-type {\n        vertical-align: middle;\n    }\n\n    .dataframe tbody tr th {\n        vertical-align: top;\n    }\n\n    .dataframe thead th {\n        text-align: right;\n    }\n</style>\n<table border=\"1\" class=\"dataframe\">\n  <thead>\n    <tr style=\"text-align: right;\">\n      <th></th>\n      <th>company_id</th>\n      <th>description</th>\n      <th>formatted_experience_level</th>\n      <th>formatted_work_type</th>\n      <th>industries</th>\n      <th>job_function</th>\n      <th>job_id</th>\n      <th>location</th>\n      <th>title</th>\n      <th>work_type</th>\n    </tr>\n  </thead>\n  <tbody>\n    <tr>\n      <th>0</th>\n      <td>1584738</td>\n      <td>Company Description\\n\\nSmartRecruiters is a va...</td>\n      <td>Associate</td>\n      <td>Full-time</td>\n      <td>Technology, Information and Internet and Softw...</td>\n      <td>Strategy/Planning</td>\n      <td>3878432283</td>\n      <td>United States</td>\n      <td>Events Manager</td>\n      <td>FULL-TIME</td>\n    </tr>\n    <tr>\n      <th>1</th>\n      <td>101701751</td>\n      <td>Job Title: Remote Travel Data Entry Specialist...</td>\n      <td>Entry level</td>\n      <td>Full-time</td>\n      <td>Internet Publishing</td>\n      <td>Administrative</td>\n      <td>3878442071</td>\n      <td>Venture Planners Chicago, IL</td>\n      <td>Data Entry Clerk - Remote</td>\n      <td>FULL-TIME</td>\n    </tr>\n    <tr>\n      <th>2</th>\n      <td>22615</td>\n      <td>The Neonatal ICU at Huntsville Hospital for Wo...</td>\n      <td>Mid-Senior level</td>\n      <td>Other</td>\n      <td>Hospitals and Health Care</td>\n      <td>Health Care Provider</td>\n      <td>3878285098</td>\n      <td>Hospital Huntsville, AL</td>\n      <td>RN Staff-Neonatal ICU-PT-3rd Shift</td>\n      <td>OTHER</td>\n    </tr>\n    <tr>\n      <th>3</th>\n      <td>101701751</td>\n      <td>Job Title: Administrative Assistant/Customer S...</td>\n      <td>Entry level</td>\n      <td>Full-time</td>\n      <td>Internet Publishing</td>\n      <td>Administrative</td>\n      <td>3878438366</td>\n      <td>Venture Planners United States</td>\n      <td>Administrative Assistant/Customer Service</td>\n      <td>FULL-TIME</td>\n    </tr>\n    <tr>\n      <th>4</th>\n      <td>3055</td>\n      <td>Company Description\\n\\nDiscover the essence of...</td>\n      <td>Associate</td>\n      <td>Full-time</td>\n      <td>Hospitality</td>\n      <td>Other</td>\n      <td>3878432792</td>\n      <td>Wailea, HI</td>\n      <td>Revenue Analyst (Full-time)</td>\n      <td>FULL-TIME</td>\n    </tr>\n    <tr>\n      <th>...</th>\n      <td>...</td>\n      <td>...</td>\n      <td>...</td>\n      <td>...</td>\n      <td>...</td>\n      <td>...</td>\n      <td>...</td>\n      <td>...</td>\n      <td>...</td>\n      <td>...</td>\n    </tr>\n    <tr>\n      <th>228</th>\n      <td>99218917</td>\n      <td>This is a remote position.\\n\\nJunior Virtual A...</td>\n      <td>Entry level</td>\n      <td>Full-time</td>\n      <td>IT Services and IT Consulting</td>\n      <td>Information Technology</td>\n      <td>3878774793</td>\n      <td>Learning Career New York, NY</td>\n      <td>Junior Virtual Assistant</td>\n      <td>FULL-TIME</td>\n    </tr>\n    <tr>\n      <th>229</th>\n      <td>2998</td>\n      <td>Help Help Requirements Conditions of Employmen...</td>\n      <td>Entry level</td>\n      <td>Full-time</td>\n      <td>Government Administration</td>\n      <td>Other</td>\n      <td>3879000341</td>\n      <td>Department of Homeland Security Tustin, CA</td>\n      <td>Asylum Officer</td>\n      <td>FULL-TIME</td>\n    </tr>\n    <tr>\n      <th>230</th>\n      <td>18348748</td>\n      <td>Description\\n\\nWho We Are - MANSCAPED® is a le...</td>\n      <td>Mid-Senior level</td>\n      <td>Full-time</td>\n      <td>Personal Care Product Manufacturing</td>\n      <td>Accounting/Auditing and Finance</td>\n      <td>3878784776</td>\n      <td>United States</td>\n      <td>Manager, Accounts Payable</td>\n      <td>FULL-TIME</td>\n    </tr>\n    <tr>\n      <th>231</th>\n      <td>99218917</td>\n      <td>This is a remote position.\\n\\nJunior React Dev...</td>\n      <td>Entry level</td>\n      <td>Full-time</td>\n      <td>IT Services and IT Consulting</td>\n      <td>Information Technology</td>\n      <td>3878779047</td>\n      <td>Learning Career New York, NY</td>\n      <td>Junior React Developer</td>\n      <td>FULL-TIME</td>\n    </tr>\n    <tr>\n      <th>232</th>\n      <td>140772</td>\n      <td>Children’s import apparel company seeking prod...</td>\n      <td>Associate</td>\n      <td>Full-time</td>\n      <td>Retail Apparel and Fashion</td>\n      <td>Production</td>\n      <td>3878788181</td>\n      <td>New York City Metropolitan Area</td>\n      <td>Production Coordinator</td>\n      <td>FULL-TIME</td>\n    </tr>\n  </tbody>\n</table>\n<p>233 rows × 10 columns</p>\n</div>"
     },
     "execution_count": 318,
     "metadata": {},
     "output_type": "execute_result"
    }
   ],
   "source": [
    "df1"
   ],
   "metadata": {
    "collapsed": false,
    "ExecuteTime": {
     "start_time": "2024-03-31T19:48:25.899778Z",
     "end_time": "2024-03-31T19:48:25.913819Z"
    }
   }
  }
 ],
 "metadata": {
  "kernelspec": {
   "display_name": "Python 3",
   "language": "python",
   "name": "python3"
  },
  "language_info": {
   "codemirror_mode": {
    "name": "ipython",
    "version": 2
   },
   "file_extension": ".py",
   "mimetype": "text/x-python",
   "name": "python",
   "nbconvert_exporter": "python",
   "pygments_lexer": "ipython2",
   "version": "2.7.6"
  }
 },
 "nbformat": 4,
 "nbformat_minor": 0
}
